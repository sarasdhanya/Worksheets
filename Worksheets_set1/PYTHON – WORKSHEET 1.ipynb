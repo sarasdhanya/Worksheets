{
 "cells": [
  {
   "cell_type": "code",
   "execution_count": 1,
   "id": "93458123",
   "metadata": {},
   "outputs": [],
   "source": [
    "#OUESTION 1\n",
    "#which of the following operators are used to calculate remainder in a division?\n",
    "#ANSWER- (c) %"
   ]
  },
  {
   "cell_type": "code",
   "execution_count": 2,
   "id": "5432771b",
   "metadata": {},
   "outputs": [],
   "source": [
    "\n",
    "#OUESTION 2\n",
    "#In python 2//3 is equal to?\n",
    "#ANSWER- (B)0\n"
   ]
  },
  {
   "cell_type": "code",
   "execution_count": 3,
   "id": "fa9b59e6",
   "metadata": {},
   "outputs": [],
   "source": [
    "#QUESTION 3\n",
    "#In python 6<<2 is equal to\n",
    "#ANSWER- (c)24\n"
   ]
  },
  {
   "cell_type": "code",
   "execution_count": 4,
   "id": "72a09d1f",
   "metadata": {},
   "outputs": [],
   "source": [
    "#QUESTION 4\n",
    "#In python 6&2 will give you which of the following as output?\n",
    "\n",
    "#ANSWER- (A)2\n"
   ]
  },
  {
   "cell_type": "code",
   "execution_count": 5,
   "id": "b0bd45d3",
   "metadata": {},
   "outputs": [],
   "source": [
    "# QUESTION 5\n",
    "#In python, 6|2 will give which of the following as output?\n",
    "\n"
   ]
  },
  {
   "cell_type": "code",
   "execution_count": 6,
   "id": "0994de04",
   "metadata": {},
   "outputs": [],
   "source": [
    "# QUESTION 6\n",
    "#6.\tWhat does the finally keyword denotes in python?\n",
    "# ANSWER (B) B)\tIt encloses the lines of code which will be executed \n",
    "#if any error occurs while executing the lines of code in the try block."
   ]
  },
  {
   "cell_type": "code",
   "execution_count": 7,
   "id": "fb951e14",
   "metadata": {},
   "outputs": [],
   "source": [
    "#QUESTION 7\n",
    "# What is raise keyword used for in python?\n",
    "#ANSWER (A)It is used to raise an exception\n"
   ]
  },
  {
   "cell_type": "code",
   "execution_count": 8,
   "id": "ad0fff12",
   "metadata": {},
   "outputs": [],
   "source": [
    "#OUESTION 8\n",
    "#which of the following is a common use case of yeild keyword in python?\n",
    "#ANSWER- (C)In defining a generator"
   ]
  },
  {
   "cell_type": "code",
   "execution_count": 9,
   "id": "8b7ce851",
   "metadata": {},
   "outputs": [],
   "source": [
    "#QUESTION 9\n",
    "#Which of the following are valid variable names?\n",
    "#ANSWER- (A)_abc,(B)abc2\n"
   ]
  },
  {
   "cell_type": "code",
   "execution_count": 10,
   "id": "42be17e3",
   "metadata": {},
   "outputs": [],
   "source": [
    "#QUESTION 10\n",
    "#Which of the following are the keywords in python\n",
    "#ANSWER- (A)yeild , (B)raise"
   ]
  },
  {
   "cell_type": "code",
   "execution_count": 16,
   "id": "9999c157",
   "metadata": {},
   "outputs": [
    {
     "name": "stdout",
     "output_type": "stream",
     "text": [
      "enter the value5\n",
      "The factorial of 5 is 120\n"
     ]
    }
   ],
   "source": [
    "# OUESTION 11- Write a program to find out the factorial of a number.\n",
    "num=int(input(\"enter the value\"))\n",
    "#initialize the result to 1\n",
    "result=1\n",
    "for i in range(1,num+1):\n",
    "    result*=i\n",
    "print(\"The factorial of\",num,\"is\",result)  "
   ]
  },
  {
   "cell_type": "code",
   "execution_count": 17,
   "id": "340e73bc",
   "metadata": {},
   "outputs": [
    {
     "name": "stdout",
     "output_type": "stream",
     "text": [
      "enter the number13\n",
      "the number 13 is a prime number\n"
     ]
    }
   ],
   "source": [
    "#OUESTION 12-Write a program to find if a number is prime or composite\n",
    "\n",
    "num=int(input(\"enter the number\"))\n",
    "if num%2!=0:\n",
    "    print(\"the number\",num,\"is a prime number\")\n",
    "else:\n",
    "    print(\"the number\",num,\"is a composite number\")\n"
   ]
  },
  {
   "cell_type": "code",
   "execution_count": 18,
   "id": "a1a467a3",
   "metadata": {},
   "outputs": [
    {
     "name": "stdout",
     "output_type": "stream",
     "text": [
      "Enter a string: tata\n",
      "The string is not a palindrome\n"
     ]
    }
   ],
   "source": [
    "#QUESTION-13 \n",
    "#Write a python program to check whether a given string is pallindrome or not\n",
    "\n",
    "string = input(\"Enter a string: \")\n",
    "\n",
    "# check if string is a palindrome\n",
    "if string == string[::-1]:\n",
    "    print(\"The string is a palindrome\")\n",
    "else:\n",
    "    print(\"The string is not a palindrome\")"
   ]
  },
  {
   "cell_type": "code",
   "execution_count": 19,
   "id": "468157bf",
   "metadata": {},
   "outputs": [
    {
     "name": "stdout",
     "output_type": "stream",
     "text": [
      "The length of the third side is: 5.0\n"
     ]
    }
   ],
   "source": [
    "#QUESTION-14\n",
    "#Write a python program to get the third side of right-angled triangle from two given sides.\n",
    "\n",
    "\n",
    "import math\n",
    "\n",
    "def get_third_side(a, b):\n",
    "    \"\"\"\n",
    "    Calculate the length of the third side of a right-angled triangle\n",
    "    given the lengths of the other two sides.\n",
    "    \"\"\"\n",
    "    c = math.sqrt(a**2 + b**2)\n",
    "    return c\n",
    "\n",
    "# Example usage\n",
    "a = 3\n",
    "b = 4\n",
    "c = get_third_side(a, b)\n",
    "print(\"The length of the third side is:\", c)"
   ]
  },
  {
   "cell_type": "code",
   "execution_count": 20,
   "id": "dba3834c",
   "metadata": {},
   "outputs": [
    {
     "name": "stdout",
     "output_type": "stream",
     "text": [
      "h : 1\n",
      "e : 1\n",
      "l : 3\n",
      "o : 2\n",
      ", : 1\n",
      "  : 1\n",
      "w : 1\n",
      "r : 1\n",
      "d : 1\n",
      "! : 1\n"
     ]
    }
   ],
   "source": [
    "#OUESTION 15\n",
    "#Write a python program to print the frequency of each of the characters present in a given string\n",
    "\n",
    "def character_frequency(string):\n",
    "    \"\"\"\n",
    "    Count the frequency of each character in a given string\n",
    "    and print the results.\n",
    "    \"\"\"\n",
    "    frequency = {}\n",
    "    for char in string:\n",
    "        if char in frequency:\n",
    "            frequency[char] += 1\n",
    "        else:\n",
    "            frequency[char] = 1\n",
    "\n",
    "    for key, value in frequency.items():\n",
    "        print(key, \":\", value)\n",
    "\n",
    "# Example usage\n",
    "string = \"hello, world!\"\n",
    "character_frequency(string)"
   ]
  },
  {
   "cell_type": "code",
   "execution_count": null,
   "id": "7c282819",
   "metadata": {},
   "outputs": [],
   "source": []
  }
 ],
 "metadata": {
  "kernelspec": {
   "display_name": "Python 3 (ipykernel)",
   "language": "python",
   "name": "python3"
  },
  "language_info": {
   "codemirror_mode": {
    "name": "ipython",
    "version": 3
   },
   "file_extension": ".py",
   "mimetype": "text/x-python",
   "name": "python",
   "nbconvert_exporter": "python",
   "pygments_lexer": "ipython3",
   "version": "3.9.12"
  }
 },
 "nbformat": 4,
 "nbformat_minor": 5
}
