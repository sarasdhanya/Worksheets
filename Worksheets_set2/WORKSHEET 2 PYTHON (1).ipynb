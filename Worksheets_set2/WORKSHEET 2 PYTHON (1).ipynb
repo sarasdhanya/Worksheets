{
 "cells": [
  {
   "cell_type": "code",
   "execution_count": 1,
   "id": "70b37189",
   "metadata": {},
   "outputs": [],
   "source": [
    "#Q-1. Which of the following is not a core datatype in python?\n",
    "#Ans:- struct (option B)\n"
   ]
  },
  {
   "cell_type": "code",
   "execution_count": 2,
   "id": "dee9c376",
   "metadata": {},
   "outputs": [],
   "source": [
    "#Q-2 Which of the following is an invalid variable name in python?\n",
    "#Ans:- 1_no (option c)"
   ]
  },
  {
   "cell_type": "code",
   "execution_count": 3,
   "id": "6bb12ffc",
   "metadata": {},
   "outputs": [],
   "source": [
    "#Q-3 Which one of the following is a keyword in python?\n",
    "#Ans:- foo(option D)\n"
   ]
  },
  {
   "cell_type": "code",
   "execution_count": 5,
   "id": "31566a80",
   "metadata": {},
   "outputs": [],
   "source": [
    "#Q-4. In which of the following manner are the operators of the same precedence executed in \n",
    "#python?\n",
    "#Ans:- left to right(option A)\n"
   ]
  },
  {
   "cell_type": "code",
   "execution_count": 6,
   "id": "e16a87b5",
   "metadata": {},
   "outputs": [],
   "source": [
    "#Q-5. Arrange the following in decreasing order of the precedence when they appear in an expression \n",
    "#in python? i) Multiplication ii) Division iii) Exponential iv) Parentheses\n",
    "#Ans:- iii – ii – i – iv (option-D)"
   ]
  },
  {
   "cell_type": "code",
   "execution_count": 7,
   "id": "78ea7639",
   "metadata": {},
   "outputs": [],
   "source": [
    "#Q-6. (28//6)**3/3%3 = ?\n",
    "#Ans:- 0.3333…..(option C)"
   ]
  },
  {
   "cell_type": "code",
   "execution_count": 8,
   "id": "bf367a52",
   "metadata": {},
   "outputs": [],
   "source": [
    "#Q-7. a = input(“Enter an integer”). What will be the data type of a?\n",
    "#Ans:- int(option A)\n"
   ]
  },
  {
   "cell_type": "code",
   "execution_count": 9,
   "id": "d7acb66a",
   "metadata": {},
   "outputs": [],
   "source": [
    "#Q-8. Which of the following statements are correct?\n",
    "#Ans:- A) Division and multiplication have same precedence in python \n",
    "# B) Python’s operators’ precedence is based on PEDMAS"
   ]
  },
  {
   "cell_type": "code",
   "execution_count": 10,
   "id": "f40de2b6",
   "metadata": {},
   "outputs": [],
   "source": [
    "#Q-9. Which of the following is(are) valid statement(s) in python?\n",
    "#Ans:- A) abc = 1,000,000 \n",
    "# D) a_b_c = 1,000,000"
   ]
  },
  {
   "cell_type": "code",
   "execution_count": 11,
   "id": "be79f080",
   "metadata": {},
   "outputs": [],
   "source": [
    "#Q-10. Which of the following is not equal to x16 in python?\n",
    "#Ans:- x^16 (option c)"
   ]
  },
  {
   "cell_type": "markdown",
   "id": "e3589d52",
   "metadata": {},
   "source": [
    "Q-11. Differentiate between a list, tuple, set and dictionary?\n",
    "Ans. In Python, a list, tuple, set, and dictionary are all different types of data structures used for \n",
    "storing and organizing data.\n",
    "Here are the key differences between these four data structures:\n",
    "1. List: A list is an ordered collection of elements, which can be of different data types. Lists are \n",
    "mutable, which means that you can add, remove, or modify elements in a list. Lists are \n",
    "defined using square brackets [].\n",
    " Example: my_list = [1, 2, \"three\", 4.0]\n",
    "2. Tuple: A tuple is similar to a list, but it is immutable, which means that you cannot add, \n",
    "remove, or modify elements in a tuple once it is defined. Tuples are defined using \n",
    "parentheses ().\n",
    "Example: my_tuple=(1,2,”three”,4.0)\n",
    "3. Set: A set is an unordered collection of unique elements. Sets are mutable, and you can add \n",
    "or remove elements from a set. Sets are defined using curly braces {} or the set() function.\n",
    "Example: my_set{1,2,3,5}\n",
    "4. Dictionary: A dictionary is an unordered collection of key-value pairs, where each key is \n",
    "associated with a value. Dictionaries are mutable, and you can add, remove, or modify key\u0002value pairs in a dictionary. Dictionaries are defined using curly braces {} and colons : to \n",
    "separate the keys and values.\n",
    "Examples: my_dict = {\"name\": \"John\", \"age\": 30, \"city\": \"New York\"}"
   ]
  },
  {
   "cell_type": "raw",
   "id": "a1a19f8e",
   "metadata": {},
   "source": [
    "Q 12. Are strings mutable in python? Suppose you have a string “I+Love+Python”, write a small code \n",
    "to replace ‘+’ with space in python.\n",
    "Ans. No, strings are immutable in Python, which means that you cannot change the contents of a \n",
    "string after it is created. However, you can create a new string with the desired modifications.\n",
    "my_string = \"I+Love+Python\"\n",
    "new_string = my_string.replace(\"+\", \" \") \n",
    "print(new_string) \n",
    "The replace() method is used to replace all occurrences of '+' in the original string with a space. The \n",
    "resulting string is stored in the variable new_string. The print() function is then used to display the \n",
    "modified string. The output of this code will be:\n",
    "I Love Python "
   ]
  },
  {
   "cell_type": "raw",
   "id": "5b3c7fd2",
   "metadata": {},
   "source": [
    "Q13. What does the function ord() do in python? Explain with an example. Also, write down the \n",
    "function for getting the data type of a variable in python.\n",
    "Ans. In Python, the built-in function ord() is used to return the integer value of a given Unicode \n",
    "character. The ord() function takes a single argument, which can be a string of length 1 representing \n",
    "a single Unicode character, and returns an integer representing the Unicode code point of that \n",
    "character.\n",
    "Here's an example of how to use the ord() function:\n",
    "my_char = 'A'\n",
    "my_char_code = ord(my_char)\n",
    "print(my_char_code)\n",
    "To get the data type of a variable in Python, you can use the built-in function type(). The type()\n",
    "function takes a single argument, which can be any Python object, and returns the type of that \n",
    "object.\n",
    "Here's an example of how to use the type() function:\n",
    "my_var = 42\n",
    "my_var_type = type(my_var)\n",
    "print(my_var_type)"
   ]
  },
  {
   "cell_type": "code",
   "execution_count": 12,
   "id": "61d2d2ef",
   "metadata": {},
   "outputs": [],
   "source": [
    "#Q-14.Write a python program to solve a quadratic equation of the form ax^2+bx+c=0. Where a, b and c are to be taken by user input. Handle the erroneous input, such as ‘a’ should not be equal to 0."
   ]
  },
  {
   "cell_type": "code",
   "execution_count": 15,
   "id": "c62a3b05",
   "metadata": {},
   "outputs": [
    {
     "name": "stdout",
     "output_type": "stream",
     "text": [
      "Enter a: 1\n",
      "Enter b: 9\n",
      "Enter c: 18\n",
      "Solutions are: x1 = -3.00, x2 = -6.00\n"
     ]
    }
   ],
   "source": [
    "import math\n",
    "\n",
    "def solve_quadratic(a, b, c):\n",
    "    # Check if a is equal to 0\n",
    "    if a == 0:\n",
    "        print(\"Error: 'a' should not be equal to 0\")\n",
    "        return None\n",
    "    \n",
    "    # Calculate discriminant\n",
    "    disc = b**2 - 4*a*c\n",
    "    \n",
    "    # Check if discriminant is negative\n",
    "    if disc < 0:\n",
    "        print(\"Error: No real solutions exist\")\n",
    "        return None\n",
    "    \n",
    "    # Calculate solutions\n",
    "    x1 = (-b + math.sqrt(disc)) / (2*a)\n",
    "    x2 = (-b - math.sqrt(disc)) / (2*a)\n",
    "    \n",
    "    # Print solutions\n",
    "    print(f\"Solutions are: x1 = {x1:.2f}, x2 = {x2:.2f}\")\n",
    "\n",
    "# Take user input for a, b, and c\n",
    "a = float(input(\"Enter a: \"))\n",
    "b = float(input(\"Enter b: \"))\n",
    "c = float(input(\"Enter c: \"))\n",
    "\n",
    "# Solve the quadratic equation\n",
    "solve_quadratic(a, b, c)"
   ]
  },
  {
   "cell_type": "code",
   "execution_count": 16,
   "id": "7afd8ff4",
   "metadata": {},
   "outputs": [],
   "source": [
    "#Q-15.Write a python program to find the sum of first ‘n’ natural numbers without using any loop. Ask users to input the value of ‘n"
   ]
  },
  {
   "cell_type": "code",
   "execution_count": 17,
   "id": "ad9678a6",
   "metadata": {},
   "outputs": [
    {
     "name": "stdout",
     "output_type": "stream",
     "text": [
      "Enter a positive integer value for n: 20\n",
      "The sum of first 20 natural numbers is 210.0\n"
     ]
    }
   ],
   "source": [
    "def sum_of_naturals(n):\n",
    "    # Use formula to calculate sum of n natural numbers\n",
    "    # Formula: sum = n * (n + 1) / 2\n",
    "    sum = n * (n + 1) / 2\n",
    "    \n",
    "    # Print the sum\n",
    "    print(f\"The sum of first {n} natural numbers is {sum}\")\n",
    "\n",
    "# Take user input for n\n",
    "n = int(input(\"Enter a positive integer value for n: \"))\n",
    "\n",
    "# Call the function to calculate sum of n natural numbers\n",
    "sum_of_naturals(n)"
   ]
  },
  {
   "cell_type": "code",
   "execution_count": null,
   "id": "16d55da1",
   "metadata": {},
   "outputs": [],
   "source": []
  }
 ],
 "metadata": {
  "kernelspec": {
   "display_name": "Python 3 (ipykernel)",
   "language": "python",
   "name": "python3"
  },
  "language_info": {
   "codemirror_mode": {
    "name": "ipython",
    "version": 3
   },
   "file_extension": ".py",
   "mimetype": "text/x-python",
   "name": "python",
   "nbconvert_exporter": "python",
   "pygments_lexer": "ipython3",
   "version": "3.9.12"
  }
 },
 "nbformat": 4,
 "nbformat_minor": 5
}
